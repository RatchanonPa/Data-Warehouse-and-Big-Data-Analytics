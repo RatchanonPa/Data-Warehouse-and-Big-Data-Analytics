{
  "cells": [
    {
      "cell_type": "markdown",
      "metadata": {
        "id": "view-in-github",
        "colab_type": "text"
      },
      "source": [
        "<a href=\"https://colab.research.google.com/github/RatchanonPa/Data-Warehouse-and-Big-Data-Analytics/blob/main/Data_Analytics_and_Modeling.ipynb\" target=\"_parent\"><img src=\"https://colab.research.google.com/assets/colab-badge.svg\" alt=\"Open In Colab\"/></a>"
      ]
    },
    {
      "cell_type": "markdown",
      "id": "0e197877",
      "metadata": {
        "id": "0e197877"
      },
      "source": [
        "# Mini Project 2: Data Analytics and Modeling"
      ]
    },
    {
      "cell_type": "markdown",
      "id": "e813eff6",
      "metadata": {
        "id": "e813eff6"
      },
      "source": [
        "<img src=\"https://datarundown.com/wp-content/uploads/2023/05/Model-Data-Analytics.jpg\" width=\"400px\">"
      ]
    },
    {
      "cell_type": "markdown",
      "id": "68f61d7b",
      "metadata": {
        "id": "68f61d7b"
      },
      "source": [
        "ชื่อกลุ่ม: ...\n",
        "\n",
        "รายชื่อสมาชิก การแบ่งงาน และสัดส่วนในการทำงาน:\n",
        "1. ...\n",
        "2. ...\n",
        "3. ...\n",
        "4. ...\n",
        "\n",
        "กำหนดส่ง: พุธ 9 ตุลาคม 2567  \n",
        "\n",
        "รายงานในชั้นเรียน: พฤหัสบดี 10 ตุลาคม 2567\n",
        "\n",
        "** NOTE **\n",
        "* อย่าลืมบันทึกงานที่ทำในโน้ตบุ๊คนี้เป็นประจำขณะทำงาน มิเช่นนั้นงานที่ทำอยู่อาจสูญหายได้\n",
        "* **เริ่มทำแต่เนิ่น ๆ อย่ารอที่จะทำก่อนส่ง เพราะจะทำไม่เสร็จ เนื่องจากปัญหามากมายที่จะเกิดขึ้นระหว่างการทำงาน และอาจารย์ไม่รับปรึกษาในคืนก่อนส่ง**\n",
        "----------------------"
      ]
    },
    {
      "cell_type": "markdown",
      "id": "175bd542",
      "metadata": {
        "id": "175bd542"
      },
      "source": [
        "### เลือกชุดข้อมูล 1 ชุดจากข้อมูลที่กำหนดให้ต่อไปนี้\n",
        "* <b>MovieLens 1M Data Set<b>\n",
        "    * ข้อมูลชุดนี้มีข้อมูลเกี่ยวกับ movies, users, และ how they rate the movies\n",
        "    * สามารถดูรายละเอียดได้ที่ http://grouplens.org/datasets/movielens/\n",
        "    * Download the 1 million ratings data set from https://grouplens.org/datasets/movielens/1m/\n",
        "    * Merge all of the data into a single Pandas DataFrame. See\n",
        "        * https://pandas.pydata.org/docs/reference/api/pandas.DataFrame.merge.html\n",
        "    \n",
        "* <b>Walmart_Sales_Forecast<b>\n",
        "    * สามารถดูรายละเอียดได้ที่ https://github.com/Asikpalysik/Walmart_Sales_Forecast/tree/main\n",
        "    * ข้อมูลประกอบด้วยไฟล์ features.csv, stores.csv และ ข้อมูลยอดขาย (train.csv และ test.csv)\n",
        "    * ให้ใช้ข้อมูลจากทุกไฟล์ทุกอย่างประกอบกันในการวิเคราะห์\n",
        "    \n",
        "* <b>NYC Taxi Trips<b>\n",
        "    * ข้อมูลทริปของแท็กซี่ในเมืองนิวยอร์กจาก https://www.nyc.gov/site/tlc/about/tlc-trip-record-data.page\n",
        "    * ข้อมูลเก็บโดย The NYC Taxi and Limousine Commission (TLC) ประกอบด้วย pick-up and drop-off dates/times, pick-up and drop-off locations, trip distances, itemized fares, rate types, payment types, and driver-reported passenger counts\n",
        "    * นอกจากไฟล์ข้อมูลทริปของแท็กซี่แล้ว ยังมีข้อมูลเกี่ยวกับ zone ของพื้นที่ที่ให้บริการ และคำอธิบายข้อมูลในส่วนล่างสุดของหน้าเดียวกัน\n",
        "    * ให้ศึกษาข้อมูลการเดินทางของแท็กซี่เหลืองหรือแท็กซี่เขียวในช่วงหนึ่ง (เช่น 1 เดือน หรือ 1 ปีที่ผ่านมา เป็นต้น)\n",
        "    * ตัวอย่างการอ่านไฟล์ parquet\n",
        "    ```python\n",
        "    # install this module to read .parquet files\n",
        "    !pip install pyarrow\n",
        "    import pyarrow.parquet as pq\n",
        "    trips = pq.read_table('yellow_tripdata_2023-09.parquet')\n",
        "    trips = trips.to_pandas()\n",
        "    trips\n",
        "    ```\n",
        "    \n",
        "----------------------------------"
      ]
    },
    {
      "cell_type": "markdown",
      "id": "a9b4d1ad",
      "metadata": {
        "id": "a9b4d1ad"
      },
      "source": [
        "### ศึกษาข้อมูลที่เลือกใช้ แล้วทำการ\n",
        "* Tell story about data อธิบายลักษณะของข้อมูล ทำความเข้าใจเกี่ยวกับข้อมูลชุดนี้ ด้วยสถิติ และนำเสนอด้วยแผนภาพ แผนภูมิ หรือกราฟต่าง ๆ\n",
        "* ตั้ง<span style=\"color:red\">*ปัญหาหรือคำถามเชิงองค์กรหรือธุรกิจ*</span>ที่กลุ่มท่านสนใจเกี่ยวกับข้อมูลนี้ แล้วทำการคาดการณ์ (conjectures) เกี่ยวกับ<span style=\"color:red\">*ปัญหาหรือคำถาม*</span>ที่ได้ตั้งไว้อย่างน้อย 3 ข้อ แล้วสนับสนุนหรือปฏิเสธข้อคาดการณ์ด้วยการวิเคราะห์ข้อมูลหรือด้วย data visualization\n",
        "    * ปัญหาที่สนใจมีความสำคัญอย่างไร?\n",
        "    * ข้อคาดการณ์ของท่านจะนำไปสู่การแก้ไขปัญหาหรือตอบคำถามอย่างไร?\n",
        "* สร้างตัวแบบทำนายโดยใช้ข้อมูลที่เลือกในการตอบปัญหาหรือคำถาม\n",
        "    - prepare data\n",
        "    - feature engineering\n",
        "    - partition data (train/test, consider class if any)\n",
        "    - handle imbalance data (over sampling, sub sampling)\n",
        "    - build model\n",
        "     - hyperparameter tuning\n",
        "    - test model\n",
        "    - ทำหลาย ๆ model เพื่อเปรียบเทียบว่า model ไหนดีที่สุด"
      ]
    },
    {
      "cell_type": "markdown",
      "id": "8fd04360",
      "metadata": {
        "id": "8fd04360"
      },
      "source": [
        "#### ปัญหา/คำถามที่สนใจคืออะไร\n",
        "...\n",
        "\n",
        "#### ปัญหา/คำถามที่สนใจมีความสำคัญอย่างไร?\n",
        "...\n",
        "\n",
        "#### ข้อคาดการณ์ของท่านจะนำไปสู่การแก้ไขปัญหาหรือตอบคำถาม\n",
        "1. ...\n",
        "2. ...\n",
        "3. ...\n",
        "4. (Optional)\n",
        "5. (Optional)"
      ]
    },
    {
      "cell_type": "markdown",
      "id": "2d96f1c0",
      "metadata": {
        "id": "2d96f1c0"
      },
      "source": [
        "## Data Loading"
      ]
    },
    {
      "cell_type": "code",
      "execution_count": null,
      "id": "24777ecb",
      "metadata": {
        "id": "24777ecb"
      },
      "outputs": [],
      "source": [
        "# Load data\n",
        "\n",
        "# Merge data if necessary\n"
      ]
    },
    {
      "cell_type": "markdown",
      "id": "4e918b6a",
      "metadata": {
        "id": "4e918b6a"
      },
      "source": [
        "## Data Preparation"
      ]
    },
    {
      "cell_type": "code",
      "execution_count": null,
      "id": "4bef1862",
      "metadata": {
        "id": "4bef1862"
      },
      "outputs": [],
      "source": [
        "# Explore variables and check data quality\n",
        "\n",
        "# Handle missing values, outliers, and noises\n",
        "\n",
        "# Perform feature engineering (optional)\n"
      ]
    },
    {
      "cell_type": "markdown",
      "id": "80b0633b",
      "metadata": {
        "id": "80b0633b"
      },
      "source": [
        "## Explore Data"
      ]
    },
    {
      "cell_type": "code",
      "execution_count": null,
      "id": "c6f527df",
      "metadata": {
        "id": "c6f527df"
      },
      "outputs": [],
      "source": [
        "# Descriptive statistics\n",
        "\n",
        "# Data visualization\n",
        "# Target variable analysis: examine how each feature correlates with or impacts the target/interested variable\n"
      ]
    },
    {
      "cell_type": "markdown",
      "id": "739ec323",
      "metadata": {
        "id": "739ec323"
      },
      "source": [
        "## Data Modeling"
      ]
    },
    {
      "cell_type": "code",
      "execution_count": null,
      "id": "c78039b5",
      "metadata": {
        "id": "c78039b5"
      },
      "outputs": [],
      "source": [
        "# Partition data\n",
        "\n",
        "# Handle imbalance data (optional)\n",
        "\n",
        "# Model selection and tuning\n",
        "\n",
        "# Evaluate models\n"
      ]
    },
    {
      "cell_type": "markdown",
      "id": "886115e7",
      "metadata": {
        "id": "886115e7"
      },
      "source": [
        "#### สรุปผลที่ได้\n",
        "..."
      ]
    },
    {
      "cell_type": "markdown",
      "id": "6a085636",
      "metadata": {
        "id": "6a085636"
      },
      "source": [
        "-----------------\n",
        "# เสร็จแล้ววววว 🥳\n",
        "\n",
        "สิ่งที่ต้องแนบส่ง:\n",
        "* Notebook File (ตัวอย่าง \"filename.ipynb\") หรือ Link to Google Colab / GitHub ซึ่งมีผลลัพธ์จากการรันโค้ดแสดงทั้งหมด\n",
        "* Slides สำหรับการนำเสนอ **10** นาที ซึ่งประกอบไปด้วย\n",
        "    * Data Description: อธิบายข้อมูลที่ใช้\n",
        "    * Data Preparation: การเตรียมข้อมูลก่อนวิเคราะห์\n",
        "    * Motivation: ปัญหาหรือคำถามที่ตั้ง ทำไมถึงสนใจที่จะทำงานในเรื่องนี้\n",
        "    * Communicating Results (with figure, table, etc.): ผลที่ได้จากการศึกษา โดยระบุแนวทางที่ใช้ที่ทำให้เกิดผลลัพธ์ดังกล่าวด้วย\n",
        "        โดยไม่ต้องนำเสนอ source code ผลประกอบด้วย 2 ส่วนสำคัญ จาก\n",
        "        * Conjectures >= 3 ข้อ\n",
        "        * Machine learning models\n",
        "    * Conclusion: สรุปผลที่ได้จากการวิเคราะห์ข้อมูล\n",
        "** Note: แต่ละกลุ่มส่งแต่ละไฟล์ครั้งเดียว **\n",
        "---------------------"
      ]
    }
  ],
  "metadata": {
    "kernelspec": {
      "display_name": "Python 3 (ipykernel)",
      "language": "python",
      "name": "python3"
    },
    "language_info": {
      "codemirror_mode": {
        "name": "ipython",
        "version": 3
      },
      "file_extension": ".py",
      "mimetype": "text/x-python",
      "name": "python",
      "nbconvert_exporter": "python",
      "pygments_lexer": "ipython3",
      "version": "3.8.8"
    },
    "colab": {
      "provenance": [],
      "include_colab_link": true
    }
  },
  "nbformat": 4,
  "nbformat_minor": 5
}